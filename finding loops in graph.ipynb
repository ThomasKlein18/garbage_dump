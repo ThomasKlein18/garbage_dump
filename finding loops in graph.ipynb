{
 "cells": [
  {
   "cell_type": "code",
   "execution_count": 71,
   "metadata": {},
   "outputs": [],
   "source": [
    "import numpy as np\n",
    "import sys"
   ]
  },
  {
   "cell_type": "code",
   "execution_count": 76,
   "metadata": {},
   "outputs": [],
   "source": [
    "class Node:\n",
    "    \n",
    "    def __init__(self, name, is_end):\n",
    "        self.name = name\n",
    "        self.is_end = is_end\n",
    "        self.children = []\n",
    "        \n",
    "    def add_child(self, node):\n",
    "        self.children.append(node)\n",
    "        \n",
    "    def add_children(self, children):\n",
    "        self.children += children\n",
    "        \n",
    "    def __repr__(self):\n",
    "        return str(self.name)"
   ]
  },
  {
   "cell_type": "code",
   "execution_count": 77,
   "metadata": {},
   "outputs": [],
   "source": [
    "alpha = Node(\"alpha\", False)\n",
    "beta = Node(\"beta\", False)\n",
    "gamma = Node(\"gamma\", False)\n",
    "delta = Node(\"delta\", False)\n",
    "epsilon = Node(\"epsilon\", False)\n",
    "mue = Node(\"mue\", False)\n",
    "sigma = Node(\"sigma\", True)\n",
    "pi = Node(\"pi\", False)\n",
    "\n",
    "alpha.add_children([beta, gamma])\n",
    "gamma.add_child(delta)\n",
    "delta.add_child(epsilon)\n",
    "#epsilon.add_children([gamma, mue])\n",
    "epsilon.add_children([mue,epsilon])\n",
    "mue.add_child(sigma)\n",
    "beta.add_child(pi)\n",
    "pi.add_child(beta)"
   ]
  },
  {
   "cell_type": "code",
   "execution_count": 78,
   "metadata": {},
   "outputs": [],
   "source": [
    "def find_loop(start):\n",
    "    visited = []\n",
    "    stack = []\n",
    "    stack.append(start)\n",
    "    while( not len(stack) == 0 ):\n",
    "        node = stack.pop()\n",
    "        if node in visited:\n",
    "            print(\"found loop from {} to itself.\".format(node))\n",
    "            print(\"Initiating search for path to endnode\")\n",
    "            if( find_end(node) ):\n",
    "                print(\"Found path from \"+str(node)+\" to endnode! L is infinite!\")\n",
    "                break\n",
    "        else:\n",
    "            for child in node.children:\n",
    "                stack.append(child)\n",
    "        visited.append(node)\n",
    "        \n",
    "        \n",
    "def find_end(node):\n",
    "    visited = []\n",
    "    stack = []\n",
    "    \n",
    "    stack.append(node)\n",
    "    while( not len(stack) == 0):\n",
    "        node = stack.pop()\n",
    "        visited.append(node)\n",
    "        if( node.is_end ):\n",
    "            return True\n",
    "        for child in node.children:\n",
    "            if( not child in visited):\n",
    "                stack.append(child)\n",
    "    return False"
   ]
  },
  {
   "cell_type": "code",
   "execution_count": 79,
   "metadata": {
    "scrolled": false
   },
   "outputs": [
    {
     "name": "stdout",
     "output_type": "stream",
     "text": [
      "found loop from epsilon to itself.\n",
      "Initiating search for path to endnode\n",
      "Found path from epsilon to endnode! L is infinite!\n"
     ]
    }
   ],
   "source": [
    "find_loop(alpha)"
   ]
  },
  {
   "cell_type": "code",
   "execution_count": 70,
   "metadata": {},
   "outputs": [],
   "source": [
    "class DEA():\n",
    "    \n",
    "    def __init__(self, states, sigma, start):\n",
    "        self.states = states\n",
    "        self.sigma = sigma\n",
    "        self.start = start\n",
    "        self.matrix = np.zeros((len(states),len(sigma)))\n",
    "        \n",
    "    def add_transition(self,from_state, to_state, symbol):\n",
    "        self.matrix[self.states.index(from_state), self.sigma.index(symbol)] = self.states.index(to_state)\n",
    "        \n",
    "    def __repr__(self):\n",
    "        return str(self.matrix)"
   ]
  },
  {
   "cell_type": "code",
   "execution_count": null,
   "metadata": {},
   "outputs": [],
   "source": [
    "def check_finity(dea):\n",
    "    "
   ]
  }
 ],
 "metadata": {
  "kernelspec": {
   "display_name": "Python 3",
   "language": "python",
   "name": "python3"
  },
  "language_info": {
   "codemirror_mode": {
    "name": "ipython",
    "version": 3
   },
   "file_extension": ".py",
   "mimetype": "text/x-python",
   "name": "python",
   "nbconvert_exporter": "python",
   "pygments_lexer": "ipython3",
   "version": "3.6.5"
  }
 },
 "nbformat": 4,
 "nbformat_minor": 2
}
