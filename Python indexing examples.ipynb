{
 "cells": [
  {
   "cell_type": "markdown",
   "metadata": {},
   "source": [
    "This notebook is an introduction to Python indexing, not a comprehensive list of things that are possible/required for the course. But there are plenty of other tutorials out there "
   ]
  },
  {
   "cell_type": "code",
   "execution_count": 1,
   "metadata": {},
   "outputs": [],
   "source": [
    "import numpy as np # importing numpy, which is always useful\n",
    "import matplotlib.pyplot as plt # for plotting an image later"
   ]
  },
  {
   "cell_type": "code",
   "execution_count": 2,
   "metadata": {},
   "outputs": [
    {
     "name": "stdout",
     "output_type": "stream",
     "text": [
      "[[ 0  1  2  3  4  5]\n",
      " [ 6  7  8  9 10 11]\n",
      " [12 13 14 15 16 17]\n",
      " [18 19 20 21 22 23]\n",
      " [24 25 26 27 28 29]]\n",
      "The shape of the image is:  (5, 6)\n"
     ]
    }
   ],
   "source": [
    "img = np.reshape(np.arange(30),(5,6))\n",
    "print(img)\n",
    "print(\"The shape of the image is: \",img.shape)"
   ]
  },
  {
   "cell_type": "code",
   "execution_count": 3,
   "metadata": {},
   "outputs": [
    {
     "name": "stdout",
     "output_type": "stream",
     "text": [
      "11\n"
     ]
    }
   ],
   "source": [
    "# Let's start with the basic stuff: access a single pixel at a certain location.\n",
    "# I want the pixel with the value 11, i.e. row 1, column 5.\n",
    "# We can access images as img[row, column]\n",
    "pixel = img[1,5]\n",
    "print(pixel)"
   ]
  },
  {
   "cell_type": "code",
   "execution_count": 4,
   "metadata": {},
   "outputs": [
    {
     "name": "stdout",
     "output_type": "stream",
     "text": [
      "11\n"
     ]
    }
   ],
   "source": [
    "# Accessing the same cell can be done by utilizing a neat Python trick: Negative indexing. \n",
    "# If the index is a negative value, you can think of it as right-to-left-indexing which starts at 1.\n",
    "# So you start counting from the right / from the bottom, and at 1.\n",
    "# The rightmost value of a row / the bottom value of a column can be obtained by using the index -1.\n",
    "\n",
    "pixel2 = img[1,-1]\n",
    "print(pixel2)"
   ]
  },
  {
   "cell_type": "code",
   "execution_count": 5,
   "metadata": {},
   "outputs": [
    {
     "name": "stdout",
     "output_type": "stream",
     "text": [
      "[0 1 2 3 4 5]\n",
      "(6,)\n"
     ]
    }
   ],
   "source": [
    "# Let's look at an entire row of the image. I want the first row.\n",
    "# To select an entire range of values, use a colon (:)\n",
    "row = img[0,:]\n",
    "print(row)\n",
    "print(row.shape)"
   ]
  },
  {
   "cell_type": "markdown",
   "metadata": {},
   "source": [
    "To explain the logic of the colon-notation, look at the cell below where I extract an image patch: You can interpret it as selection \"from:to\". Omitting the values is interpreted as \"0:-1\" (so this is sort of the default-value)"
   ]
  },
  {
   "cell_type": "code",
   "execution_count": 6,
   "metadata": {},
   "outputs": [
    {
     "name": "stdout",
     "output_type": "stream",
     "text": [
      "[ 5 11 17 23 29]\n",
      "(5,)\n"
     ]
    }
   ],
   "source": [
    "# Selecting an entire column works the same way:\n",
    "column = img[:,5]\n",
    "print(column)\n",
    "print(column.shape)"
   ]
  },
  {
   "cell_type": "code",
   "execution_count": 7,
   "metadata": {},
   "outputs": [
    {
     "name": "stdout",
     "output_type": "stream",
     "text": [
      "[[ 7  8  9 10]\n",
      " [13 14 15 16]\n",
      " [19 20 21 22]]\n",
      "(3, 4)\n"
     ]
    }
   ],
   "source": [
    "# Let's extract a patch of the image. I want the 3x4 matrix in the middle of img:\n",
    "#  7  8  9 10\n",
    "# 13 14 15 16\n",
    "# 19 20 21 22\n",
    "# First, we need the row-coordinate of the patch. Indices start at 0, so we want rows 1 to 3.\n",
    "# Next, we need the column-coordinate: 1 to 4\n",
    "\n",
    "# We can access a patch of an image as img[start_row:end_row, start_column:end_column], but start is included, while end is not,\n",
    "# so what we need to do is add 1 to the end coordinate.\n",
    "\n",
    "patch = img[1:4,1:5]\n",
    "print(patch)\n",
    "print(patch.shape)"
   ]
  },
  {
   "cell_type": "code",
   "execution_count": 8,
   "metadata": {},
   "outputs": [
    {
     "name": "stdout",
     "output_type": "stream",
     "text": [
      "[[ 0  1  2  3  4  5]\n",
      " [ 6  0  0  0  0 11]\n",
      " [12  0  0  0  0 17]\n",
      " [18  0  0  0  0 23]\n",
      " [24 25 26 27 28 29]]\n"
     ]
    }
   ],
   "source": [
    "# Next, let's demonstrate setting the value of parts of the image: I'll set the middle part to zero.\n",
    "# Because I want to keep using my original image, I'll copy it:\n",
    "img2 = img.copy() # .copy() actually creates a second image. img2 = img would just mean that I have two pointers to the same image.\n",
    "img2[1:4,1:5] = 0\n",
    "print(img2)"
   ]
  },
  {
   "cell_type": "code",
   "execution_count": 9,
   "metadata": {},
   "outputs": [
    {
     "name": "stdout",
     "output_type": "stream",
     "text": [
      "0\n",
      "1\n",
      "2\n",
      "3\n",
      "4\n",
      "5\n",
      "6\n",
      "7\n",
      "8\n",
      "9\n",
      "10\n",
      "11\n",
      "12\n",
      "13\n",
      "14\n",
      "15\n",
      "16\n",
      "17\n",
      "18\n",
      "19\n",
      "20\n",
      "21\n",
      "22\n",
      "23\n",
      "24\n",
      "25\n",
      "26\n",
      "27\n",
      "28\n",
      "29\n"
     ]
    }
   ],
   "source": [
    "# Another useful python trick: Iterating over the values of an image. Using two nested loops works, but \n",
    "# is not very performant and is a lot of work:\n",
    "rows, cols = img.shape\n",
    "for i in range(rows):\n",
    "    for j in range(cols):\n",
    "        print(img[i,j])\n",
    "        "
   ]
  },
  {
   "cell_type": "code",
   "execution_count": 10,
   "metadata": {},
   "outputs": [
    {
     "name": "stdout",
     "output_type": "stream",
     "text": [
      "0\n",
      "1\n",
      "2\n",
      "3\n",
      "4\n",
      "5\n",
      "6\n",
      "7\n",
      "8\n",
      "9\n",
      "10\n",
      "11\n",
      "12\n",
      "13\n",
      "14\n",
      "15\n",
      "16\n",
      "17\n",
      "18\n",
      "19\n",
      "20\n",
      "21\n",
      "22\n",
      "23\n",
      "24\n",
      "25\n",
      "26\n",
      "27\n",
      "28\n",
      "29\n"
     ]
    }
   ],
   "source": [
    "# It's better to use np.ndindex, which takes the shape of the array to be iterated over and yields a tuple:\n",
    "for x,y in np.ndindex(img.shape):\n",
    "    print(img[x,y])"
   ]
  },
  {
   "cell_type": "code",
   "execution_count": 11,
   "metadata": {},
   "outputs": [
    {
     "name": "stdout",
     "output_type": "stream",
     "text": [
      "[[  0. 255.   0. 255.   0. 255.   0. 255.]\n",
      " [255.   0. 255.   0. 255.   0. 255.   0.]\n",
      " [  0. 255.   0. 255.   0. 255.   0. 255.]\n",
      " [255.   0. 255.   0. 255.   0. 255.   0.]\n",
      " [  0. 255.   0. 255.   0. 255.   0. 255.]\n",
      " [255.   0. 255.   0. 255.   0. 255.   0.]\n",
      " [  0. 255.   0. 255.   0. 255.   0. 255.]\n",
      " [255.   0. 255.   0. 255.   0. 255.   0.]]\n"
     ]
    },
    {
     "data": {
      "image/png": "[encoded data removed]",
      "text/plain": [
       "<Figure size 432x288 with 1 Axes>"
      ]
     },
     "metadata": {
      "needs_background": "light"
     },
     "output_type": "display_data"
    }
   ],
   "source": [
    "# There is one more way indexing can be utilized: One with two colons, to specify start:end:stepsize.\n",
    "# This is useful if you want to do something to every second pixel in the image, for example generating a chessboard:\n",
    "board = np.zeros((8,8))\n",
    "board[1::2, ::2] = 255\n",
    "board[::2, 1::2] = 255\n",
    "print(board)\n",
    "\n",
    "# you might have to run this cell twice to plot stuff\n",
    "plt.figure()\n",
    "plt.imshow(board, cmap='gray')\n",
    "plt.show()"
   ]
  },
  {
   "cell_type": "code",
   "execution_count": 12,
   "metadata": {},
   "outputs": [
    {
     "name": "stdout",
     "output_type": "stream",
     "text": [
      "[[ 0  1 -1  3  4  5]\n",
      " [ 6 -1  8  9 10 11]\n",
      " [12 13 14 15 16 17]\n",
      " [18 19 20 21 22 23]\n",
      " [24 25 26 27 28 -1]]\n"
     ]
    }
   ],
   "source": [
    "# One last thing: You can use arrays as indices. Let's say we want to set a bunch of values of the image to -1.\n",
    "# To do that, we need to collect the row-indices in a list, and the column-indices in another one, and then\n",
    "# index the array with those indices.\n",
    "\n",
    "# We will access the indicex (0,2), (1,1) and (4,5)\n",
    "row = np.array([0, 1, 4])\n",
    "col = np.array([2, 1, 5])\n",
    "new_img = img.copy()\n",
    "new_img[row,col] = -1\n",
    "print(new_img)"
   ]
  },
  {
   "cell_type": "code",
   "execution_count": null,
   "metadata": {},
   "outputs": [],
   "source": []
  }
 ],
 "metadata": {
  "kernelspec": {
   "display_name": "Python 3",
   "language": "python",
   "name": "python3"
  },
  "language_info": {
   "codemirror_mode": {
    "name": "ipython",
    "version": 3
   },
   "file_extension": ".py",
   "mimetype": "text/x-python",
   "name": "python",
   "nbconvert_exporter": "python",
   "pygments_lexer": "ipython3",
   "version": "3.6.5"
  }
 },
 "nbformat": 4,
 "nbformat_minor": 2
}
